{
 "cells": [
  {
   "cell_type": "code",
   "execution_count": 4,
   "metadata": {},
   "outputs": [
    {
     "data": {
      "image/png": "[encoded data removed]",
      "text/latex": [
       "$\\displaystyle H{\\left(t \\right)} = \\lambda_{h} t \\left(1 - e^{- \\lambda_{h} t}\\right)$"
      ],
      "text/plain": [
       "            ⎛     -λₕ⋅t⎞\n",
       "H(t) = λₕ⋅t⋅⎝1 - ℯ     ⎠"
      ]
     },
     "execution_count": 4,
     "metadata": {},
     "output_type": "execute_result"
    }
   ],
   "source": [
    "from sympy import *\n",
    "\n",
    "init_printing()\n",
    "\n",
    "t = symbols('t')\n",
    "H = Function('H')(t)\n",
    "lambda_h = symbols('lambda_h', positive=True)\n",
    "\n",
    "Hits_count = lambda_h * t * (1 - exp(-lambda_h * t))\n",
    "eq_H = Eq(H, Hits_count)\n",
    "eq_H"
   ]
  },
  {
   "cell_type": "code",
   "execution_count": 24,
   "metadata": {},
   "outputs": [
    {
     "data": {
      "image/png": "[encoded data removed]",
      "text/latex": [
       "$\\displaystyle H{\\left(0 \\right)} = 0$"
      ],
      "text/plain": [
       "H(0) = 0"
      ]
     },
     "execution_count": 24,
     "metadata": {},
     "output_type": "execute_result"
    }
   ],
   "source": [
    "eq_H.subs(t, 0)"
   ]
  },
  {
   "cell_type": "code",
   "execution_count": 25,
   "metadata": {},
   "outputs": [
    {
     "data": {
      "image/png": "[encoded data removed]",
      "text/latex": [
       "$\\displaystyle \\frac{d}{d t} H{\\left(t \\right)} = \\lambda_{h}^{2} t e^{- \\lambda_{h} t} + \\lambda_{h} \\left(1 - e^{- \\lambda_{h} t}\\right)$"
      ],
      "text/plain": [
       "d            2    -λₕ⋅t      ⎛     -λₕ⋅t⎞\n",
       "──(H(t)) = λₕ ⋅t⋅ℯ      + λₕ⋅⎝1 - ℯ     ⎠\n",
       "dt                                       "
      ]
     },
     "execution_count": 25,
     "metadata": {},
     "output_type": "execute_result"
    }
   ],
   "source": [
    "hit_function = Hits_count.diff(t)\n",
    "der_H = Derivative(H, t)\n",
    "eq_h = Eq(der_H, hit_function)\n",
    "eq_h"
   ]
  },
  {
   "cell_type": "code",
   "execution_count": 26,
   "metadata": {},
   "outputs": [
    {
     "data": {
      "text/latex": [
       "$\\displaystyle \\left. \\frac{d}{d t} H{\\left(t \\right)} \\right|_{\\substack{ t=0 }} = 0$"
      ],
      "text/plain": [
       "⎛d       ⎞│       \n",
       "⎜──(H(t))⎟│    = 0\n",
       "⎝dt      ⎠│t=0    "
      ]
     },
     "execution_count": 26,
     "metadata": {},
     "output_type": "execute_result"
    }
   ],
   "source": [
    "eq_h.subs(t, 0)"
   ]
  },
  {
   "cell_type": "code",
   "execution_count": 27,
   "metadata": {},
   "outputs": [
    {
     "data": {
      "image/png": "[encoded data removed]",
      "text/latex": [
       "$\\displaystyle \\lim_{t \\to \\infty} \\frac{d}{d t} H{\\left(t \\right)} = \\lambda_{h}$"
      ],
      "text/plain": [
       "    d            \n",
       "lim ──(H(t)) = λₕ\n",
       "t─→∞dt           "
      ]
     },
     "execution_count": 27,
     "metadata": {},
     "output_type": "execute_result"
    }
   ],
   "source": [
    "    Eq(\n",
    "        Limit(der_H, t, oo),\n",
    "        limit(hit_function, t, oo))"
   ]
  },
  {
   "cell_type": "code",
   "execution_count": 28,
   "metadata": {},
   "outputs": [
    {
     "data": {
      "image/png": "[encoded data removed]",
      "text/latex": [
       "$\\displaystyle \\lim_{t \\to \\infty}\\left(\\frac{H{\\left(t \\right)}}{t}\\right) = \\lambda_{h}$"
      ],
      "text/plain": [
       "    ⎛H(t)⎞     \n",
       "lim ⎜────⎟ = λₕ\n",
       "t─→∞⎝ t  ⎠     "
      ]
     },
     "execution_count": 28,
     "metadata": {},
     "output_type": "execute_result"
    }
   ],
   "source": [
    "    Eq(\n",
    "        Limit(H/t, t, oo),\n",
    "        limit(Hits_count/t, t, oo))"
   ]
  },
  {
   "cell_type": "code",
   "execution_count": 34,
   "metadata": {},
   "outputs": [
    {
     "data": {
      "image/png": "[encoded data removed]",
      "text/latex": [
       "$\\displaystyle \\operatorname{P_{h}}{\\left(t \\right)} = 1 - e^{- \\lambda_{h} t}$"
      ],
      "text/plain": [
       "             -λₕ⋅t\n",
       "Pₕ(t) = 1 - ℯ     "
      ]
     },
     "execution_count": 34,
     "metadata": {},
     "output_type": "execute_result"
    }
   ],
   "source": [
    "P = Function('P_h')(t)\n",
    "eq_Ph = Eq(P, 1 - exp(-lambda_h * t))\n",
    "eq_Ph"
   ]
  },
  {
   "cell_type": "code",
   "execution_count": 35,
   "metadata": {},
   "outputs": [
    {
     "data": {
      "image/png": "[encoded data removed]",
      "text/latex": [
       "$\\displaystyle H{\\left(t \\right)} = \\lambda_{h} t \\operatorname{P_{h}}{\\left(t \\right)}$"
      ],
      "text/plain": [
       "H(t) = λₕ⋅t⋅Pₕ(t)"
      ]
     },
     "execution_count": 35,
     "metadata": {},
     "output_type": "execute_result"
    }
   ],
   "source": [
    "eq_H.subs(1 - exp(-lambda_h * t), P)"
   ]
  },
  {
   "cell_type": "code",
   "execution_count": 32,
   "metadata": {},
   "outputs": [
    {
     "data": {
      "image/png": "[encoded data removed]",
      "text/latex": [
       "$\\displaystyle \\operatorname{H*}{\\left(t \\right)} = \\lambda_{h} t \\lim_{t \\to \\infty} \\operatorname{P_{h}}{\\left(t \\right)}$"
      ],
      "text/plain": [
       "H*(t) = λₕ⋅t⋅lim Pₕ(t)\n",
       "             t─→∞     "
      ]
     },
     "execution_count": 32,
     "metadata": {},
     "output_type": "execute_result"
    }
   ],
   "source": [
    "H_star = Function('H*')(t)\n",
    "Eq(H_star, lambda_h * t * Limit(P, t, oo))"
   ]
  },
  {
   "cell_type": "code",
   "execution_count": 22,
   "metadata": {},
   "outputs": [
    {
     "data": {
      "image/png": "[encoded data removed]",
      "text/latex": [
       "$\\displaystyle \\operatorname{H*}{\\left(t \\right)} = \\lambda_{h} t$"
      ],
      "text/plain": [
       "H*(t) = λₕ⋅t"
      ]
     },
     "execution_count": 22,
     "metadata": {},
     "output_type": "execute_result"
    }
   ],
   "source": [
    "Ph = 1 - exp(-lambda_h * t)\n",
    "eq_H_star = Eq(H_star, lambda_h * t * limit(Ph, t, oo))\n",
    "eq_H_star"
   ]
  },
  {
   "cell_type": "code",
   "execution_count": 7,
   "metadata": {},
   "outputs": [],
   "source": [
    "M = Function('M')(t)\n",
    "R = Function('R')(t)"
   ]
  },
  {
   "cell_type": "code",
   "execution_count": 8,
   "metadata": {},
   "outputs": [
    {
     "data": {
      "image/png": "[encoded data removed]",
      "text/latex": [
       "$\\displaystyle R{\\left(t \\right)} = H{\\left(t \\right)} + M{\\left(t \\right)}$"
      ],
      "text/plain": [
       "R(t) = H(t) + M(t)"
      ]
     },
     "execution_count": 8,
     "metadata": {},
     "output_type": "execute_result"
    }
   ],
   "source": [
    "Eq(R, M + H)"
   ]
  },
  {
   "cell_type": "code",
   "execution_count": 9,
   "metadata": {},
   "outputs": [
    {
     "data": {
      "image/png": "[encoded data removed]",
      "text/latex": [
       "$\\displaystyle R{\\left(t \\right)} = \\lambda_{r} t$"
      ],
      "text/plain": [
       "R(t) = λᵣ⋅t"
      ]
     },
     "execution_count": 9,
     "metadata": {},
     "output_type": "execute_result"
    }
   ],
   "source": [
    "from sympy import symbols\n",
    "lambda_r = symbols('lambda_r')\n",
    "lambda_m = Function('lambda_m')(t)\n",
    "Eq(R, lambda_r*t)"
   ]
  },
  {
   "cell_type": "code",
   "execution_count": 43,
   "metadata": {},
   "outputs": [
    {
     "data": {
      "image/png": "[encoded data removed]",
      "text/latex": [
       "$\\displaystyle \\lambda_{r}{\\left(t \\right)} = \\lambda_{h} + \\lambda_{m}{\\left(t \\right)}$"
      ],
      "text/plain": [
       "λᵣ(t) = λₕ + λₘ(t)"
      ]
     },
     "execution_count": 43,
     "metadata": {},
     "output_type": "execute_result"
    }
   ],
   "source": [
    "Eq(lambda_r, lambda_m + lambda_h)"
   ]
  },
  {
   "cell_type": "code",
   "execution_count": 48,
   "metadata": {},
   "outputs": [
    {
     "data": {
      "text/plain": [
       "[<matplotlib.lines.Line2D at 0x7fe9406ba890>,\n",
       " <matplotlib.lines.Line2D at 0x7fe8e069eb50>,\n",
       " <matplotlib.lines.Line2D at 0x7fe8e069ed10>]"
      ]
     },
     "execution_count": 48,
     "metadata": {},
     "output_type": "execute_result"
    },
    {
     "data": {
      "image/png": "[encoded data removed]",
      "text/plain": [
       "<Figure size 432x288 with 1 Axes>"
      ]
     },
     "metadata": {
      "needs_background": "light"
     },
     "output_type": "display_data"
    }
   ],
   "source": [
    "import numpy as np\n",
    "import matplotlib.pyplot as plt\n",
    "\n",
    "lambda_h = 1.4/19\n",
    "lambda_m = 0.7/20\n",
    "lambda_r = lambda_h + lambda_m\n",
    "\n",
    "t = np.arange(0., 40., 0.05)\n",
    "H = lambda_h * t * (1 - np.exp( - lambda_h*t))\n",
    "R = lambda_r * t\n",
    "M = R - H\n",
    "\n",
    "actual_t = [6.6, 11.0, 14.0, 20.0, 33.0]\n",
    "actual_H = [0.3,  0.6,  0.8,  1.3,  2.2]\n",
    "\n",
    "plt.ylim(0, 3)\n",
    "plt.plot(t, H, t, M, actual_t, actual_H, 'ro')"
   ]
  },
  {
   "cell_type": "code",
   "execution_count": 56,
   "metadata": {},
   "outputs": [
    {
     "data": {
      "text/plain": [
       "[<matplotlib.lines.Line2D at 0x7fe932197290>,\n",
       " <matplotlib.lines.Line2D at 0x7fe932197490>]"
      ]
     },
     "execution_count": 56,
     "metadata": {},
     "output_type": "execute_result"
    },
    {
     "data": {
      "image/png": "[encoded data removed]",
      "text/plain": [
       "<Figure size 432x288 with 1 Axes>"
      ]
     },
     "metadata": {
      "needs_background": "light"
     },
     "output_type": "display_data"
    }
   ],
   "source": [
    "dN = 1_500_000\n",
    "dt = 1.58 #days\n",
    "rate = dN/dt\n",
    "\n",
    "plt.plot([0., 4.], [0., 1.5], [0., 1.58], [0., 1.5])"
   ]
  },
  {
   "cell_type": "code",
   "execution_count": 54,
   "metadata": {},
   "outputs": [
    {
     "data": {
      "image/png": "[encoded data removed]",
      "text/latex": [
       "$\\displaystyle 949367.0886075948$"
      ],
      "text/plain": [
       "949367.0886075948"
      ]
     },
     "execution_count": 54,
     "metadata": {},
     "output_type": "execute_result"
    }
   ],
   "source": [
    "rate = dN/dt\n",
    "rate"
   ]
  },
  {
   "cell_type": "code",
   "execution_count": 55,
   "metadata": {},
   "outputs": [
    {
     "data": {
      "image/png": "[encoded data removed]",
      "text/latex": [
       "$\\displaystyle 950000$"
      ],
      "text/plain": [
       "950000"
      ]
     },
     "execution_count": 55,
     "metadata": {},
     "output_type": "execute_result"
    }
   ],
   "source": [
    "950_000"
   ]
  },
  {
   "cell_type": "code",
   "execution_count": null,
   "metadata": {},
   "outputs": [],
   "source": []
  }
 ],
 "metadata": {
  "kernelspec": {
   "display_name": "Python 3",
   "language": "python",
   "name": "python3"
  },
  "language_info": {
   "codemirror_mode": {
    "name": "ipython",
    "version": 3
   },
   "file_extension": ".py",
   "mimetype": "text/x-python",
   "name": "python",
   "nbconvert_exporter": "python",
   "pygments_lexer": "ipython3",
   "version": "3.7.4"
  }
 },
 "nbformat": 4,
 "nbformat_minor": 4
}
